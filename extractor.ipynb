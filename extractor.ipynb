{
 "cells": [
  {
   "cell_type": "code",
   "execution_count": 1,
   "id": "56b3e598-744c-479e-92d1-6caa9c888753",
   "metadata": {},
   "outputs": [
    {
     "name": "stdout",
     "output_type": "stream",
     "text": [
      "Requirement already satisfied: opencv-python in c:\\users\\dell\\appdata\\local\\programs\\python\\python312\\lib\\site-packages (4.11.0.86)\n",
      "Requirement already satisfied: numpy>=1.21.2 in c:\\users\\dell\\appdata\\local\\programs\\python\\python312\\lib\\site-packages (from opencv-python) (1.26.4)\n"
     ]
    },
    {
     "name": "stderr",
     "output_type": "stream",
     "text": [
      "\n",
      "[notice] A new release of pip is available: 25.0.1 -> 25.1.1\n",
      "[notice] To update, run: python.exe -m pip install --upgrade pip\n"
     ]
    }
   ],
   "source": [
    "!pip install opencv-python"
   ]
  },
  {
   "cell_type": "code",
   "execution_count": 2,
   "id": "8d5cf93f-1d9a-4f64-8e22-fe92252ea0de",
   "metadata": {},
   "outputs": [],
   "source": [
    "import cv2\n",
    "import os\n",
    "import logging\n",
    "from pathlib import Path\n",
    "\n",
    "# Ensure logs directory exists\n",
    "os.makedirs('logs', exist_ok=True)\n",
    "\n",
    "# Configure logging\n",
    "logging.basicConfig(\n",
    "    filename='logs/app.log',\n",
    "    level=logging.INFO,\n",
    "    format='%(asctime)s - %(levelname)s - %(message)s'\n",
    ")\n",
    "\n",
    "def extract_frames(video_path, output_dir, frames_per_second=1):\n",
    "    \"\"\"\n",
    "    Extract one frame per second from a video and save to output_dir.\n",
    "    \n",
    "    Args:\n",
    "        video_path (str): Path to the input video file.\n",
    "        output_dir (str): Directory to save extracted frames.\n",
    "        frames_per_second (int): Number of frames to extract per second (default: 1).\n",
    "    \n",
    "    Returns:\n",
    "        list: List of saved frame paths.\n",
    "    \"\"\"\n",
    "    try:\n",
    "        # Ensure output directory exists\n",
    "        Path(output_dir).mkdir(parents=True, exist_ok=True)\n",
    "        \n",
    "        # Open video file\n",
    "        cap = cv2.VideoCapture(video_path)\n",
    "        if not cap.isOpened():\n",
    "            logging.error(f\"Failed to open video: {video_path}\")\n",
    "            return []\n",
    "        \n",
    "        # Get video properties\n",
    "        fps = cap.get(cv2.CAP_PROP_FPS)\n",
    "        frame_interval = int(fps / frames_per_second)  # Frames to skip for 1 frame/sec\n",
    "        frame_count = 0\n",
    "        saved_frames = []\n",
    "        \n",
    "        # Extract video ID from filename\n",
    "        video_id = Path(video_path).stem\n",
    "        \n",
    "        logging.info(f\"Processing video: {video_path}, FPS: {fps}\")\n",
    "        \n",
    "        while cap.isOpened():\n",
    "            ret, frame = cap.read()\n",
    "            if not ret:\n",
    "                break\n",
    "                \n",
    "            if frame_count % frame_interval == 0:\n",
    "                # Generate frame filename (e.g., frame_0001.jpg)\n",
    "                frame_filename = f\"frame_{frame_count:04d}.jpg\"\n",
    "                frame_path = os.path.join(output_dir, frame_filename)\n",
    "                \n",
    "                # Save frame as JPEG\n",
    "                cv2.imwrite(frame_path, frame)\n",
    "                saved_frames.append(frame_path)\n",
    "                logging.info(f\"Saved frame: {frame_path}\")\n",
    "            \n",
    "            frame_count += 1\n",
    "        \n",
    "        # Release video capture\n",
    "        cap.release()\n",
    "        logging.info(f\"Extracted {len(saved_frames)} frames from {video_path}\")\n",
    "        return saved_frames\n",
    "    \n",
    "    except Exception as e:\n",
    "        logging.error(f\"Error processing {video_path}: {str(e)}\")\n",
    "        return []\n",
    "\n",
    "def main():\n",
    "    # Input and output directories\n",
    "    video_dir = \"data/videos\"\n",
    "    frames_base_dir = \"frames\"\n",
    "    \n",
    "    # Ensure video directory exists\n",
    "    if not os.path.exists(video_dir):\n",
    "        logging.error(f\"Video directory {video_dir} does not exist\")\n",
    "        return\n",
    "    \n",
    "    # Process each video in the directory\n",
    "    for video_file in os.listdir(video_dir):\n",
    "        if video_file.endswith(('.mp4', '.avi', '.mov')):  # Supported video formats\n",
    "            video_path = os.path.join(video_dir, video_file)\n",
    "            video_id = Path(video_file).stem\n",
    "            output_dir = os.path.join(frames_base_dir, video_id)\n",
    "            \n",
    "            logging.info(f\"Starting frame extraction for {video_file}\")\n",
    "            saved_frames = extract_frames(video_path, output_dir)\n",
    "            logging.info(f\"Completed extraction for {video_file}: {len(saved_frames)} frames\")\n",
    "\n",
    "if __name__ == \"__main__\":\n",
    "    main()"
   ]
  },
  {
   "cell_type": "code",
   "execution_count": null,
   "id": "8bc5780c-1516-4c2e-8ae2-954905dd0fee",
   "metadata": {},
   "outputs": [],
   "source": []
  }
 ],
 "metadata": {
  "kernelspec": {
   "display_name": "Python 3 (ipykernel)",
   "language": "python",
   "name": "python3"
  },
  "language_info": {
   "codemirror_mode": {
    "name": "ipython",
    "version": 3
   },
   "file_extension": ".py",
   "mimetype": "text/x-python",
   "name": "python",
   "nbconvert_exporter": "python",
   "pygments_lexer": "ipython3",
   "version": "3.12.5"
  }
 },
 "nbformat": 4,
 "nbformat_minor": 5
}
